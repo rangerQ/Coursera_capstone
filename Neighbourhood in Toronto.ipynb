{
 "cells": [
  {
   "cell_type": "code",
   "execution_count": 13,
   "metadata": {
    "collapsed": true,
    "pycharm": {
     "is_executing": false
    }
   },
   "outputs": [
    {
     "name": "stdout",
     "text": [
      "Requirement already satisfied: beautifulsoup4 in c:\\users\\luoqi\\pycharmprojects\\coursera_capstone\\venv\\lib\\site-packages (4.8.2)\n",
      "Requirement already satisfied: soupsieve>=1.2 in c:\\users\\luoqi\\pycharmprojects\\coursera_capstone\\venv\\lib\\site-packages (from beautifulsoup4) (2.0)\n",
      "Requirement already satisfied: requests in c:\\users\\luoqi\\pycharmprojects\\coursera_capstone\\venv\\lib\\site-packages (2.23.0)\n",
      "Requirement already satisfied: certifi>=2017.4.17 in c:\\users\\luoqi\\pycharmprojects\\coursera_capstone\\venv\\lib\\site-packages (from requests) (2019.11.28)\n",
      "Requirement already satisfied: chardet<4,>=3.0.2 in c:\\users\\luoqi\\pycharmprojects\\coursera_capstone\\venv\\lib\\site-packages (from requests) (3.0.4)\n",
      "Requirement already satisfied: urllib3!=1.25.0,!=1.25.1,<1.26,>=1.21.1 in c:\\users\\luoqi\\pycharmprojects\\coursera_capstone\\venv\\lib\\site-packages (from requests) (1.25.8)\n",
      "Requirement already satisfied: idna<3,>=2.5 in c:\\users\\luoqi\\pycharmprojects\\coursera_capstone\\venv\\lib\\site-packages (from requests) (2.9)\n",
      "Collecting lxml\n",
      "  Downloading https://files.pythonhosted.org/packages/d9/36/e79b8e112fb63b04b72724954ae5519e740982bec84f66e5eb4a353906ef/lxml-4.5.0-cp37-cp37m-win_amd64.whl (3.7MB)\n",
      "Installing collected packages: lxml\n",
      "Successfully installed lxml-4.5.0\n"
     ],
     "output_type": "stream"
    }
   ],
   "source": [
    "! pip install beautifulsoup4\n",
    "! pip install requests\n",
    "! pip install lxml"
   ]
  },
  {
   "cell_type": "code",
   "execution_count": 6,
   "outputs": [
    {
     "name": "stdout",
     "text": [
      "<class 'http.client.HTTPResponse'>\n"
     ],
     "output_type": "stream"
    }
   ],
   "source": [
    "from urllib.request import urlopen\n",
    "from bs4 import BeautifulSoup\n",
    "url = 'https://en.wikipedia.org/wiki/List_of_postal_codes_of_Canada:_M'\n",
    "html = urlopen(url)\n",
    "print(type(html))\n",
    "\n"
   ],
   "metadata": {
    "collapsed": false,
    "pycharm": {
     "name": "#%%\n",
     "is_executing": false
    }
   }
  },
  {
   "cell_type": "code",
   "execution_count": 22,
   "outputs": [
    {
     "name": "stdout",
     "text": [
      "\n"
     ],
     "output_type": "stream"
    }
   ],
   "source": [
    "soup = BeautifulSoup(html, \"html.parser\")\n",
    "print(soup)\n"
   ],
   "metadata": {
    "collapsed": false,
    "pycharm": {
     "name": "#%%\n",
     "is_executing": false
    }
   }
  },
  {
   "cell_type": "code",
   "execution_count": 18,
   "outputs": [],
   "source": [
    "my_table = soup.find('table',{'class':'wikitable sortable jquery-tablesorter'})\n",
    "\n",
    "#mw-content-text > div > table."
   ],
   "metadata": {
    "collapsed": false,
    "pycharm": {
     "name": "#%%\n",
     "is_executing": false
    }
   }
  },
  {
   "cell_type": "code",
   "execution_count": null,
   "outputs": [],
   "source": [
    "\n"
   ],
   "metadata": {
    "collapsed": false,
    "pycharm": {
     "name": "#%%\n"
    }
   }
  }
 ],
 "metadata": {
  "kernelspec": {
   "display_name": "Python 3",
   "language": "python",
   "name": "python3"
  },
  "language_info": {
   "codemirror_mode": {
    "name": "ipython",
    "version": 2
   },
   "file_extension": ".py",
   "mimetype": "text/x-python",
   "name": "python",
   "nbconvert_exporter": "python",
   "pygments_lexer": "ipython2",
   "version": "2.7.6"
  },
  "pycharm": {
   "stem_cell": {
    "cell_type": "raw",
    "source": [],
    "metadata": {
     "collapsed": false
    }
   }
  }
 },
 "nbformat": 4,
 "nbformat_minor": 0
}